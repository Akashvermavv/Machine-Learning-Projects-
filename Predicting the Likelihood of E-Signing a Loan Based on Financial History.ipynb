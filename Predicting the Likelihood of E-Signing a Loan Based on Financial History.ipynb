{
 "cells": [
  {
   "cell_type": "markdown",
   "metadata": {},
   "source": [
    "<h1 style='color:#'>Predicting the Likelihood of E-Signing a Loan Based on Financial History</h1>"
   ]
  },
  {
   "cell_type": "markdown",
   "metadata": {},
   "source": [
    "<h2 style='color:#2c71e8'>Importing Libraries</h2>"
   ]
  },
  {
   "cell_type": "code",
   "execution_count": 1,
   "metadata": {},
   "outputs": [],
   "source": [
    "import numpy as np \n",
    "import pandas as pd\n",
    "import seaborn as sns\n",
    "import matplotlib.pyplot as plt"
   ]
  },
  {
   "cell_type": "markdown",
   "metadata": {},
   "source": [
    "<h2 style='color:#2c71e8'>Loading the dataset</h2>"
   ]
  },
  {
   "cell_type": "code",
   "execution_count": 2,
   "metadata": {},
   "outputs": [
    {
     "data": {
      "text/plain": [
       "(17908, 21)"
      ]
     },
     "execution_count": 2,
     "metadata": {},
     "output_type": "execute_result"
    }
   ],
   "source": [
    "dataset = pd.read_csv('P39-Financial-Data.csv')\n",
    "# check the shape of dataset\n",
    "dataset.shape"
   ]
  },
  {
   "cell_type": "markdown",
   "metadata": {},
   "source": [
    "<h2 style='color:#2c71e8'>Exploratory Data Analysis</h2>"
   ]
  },
  {
   "cell_type": "code",
   "execution_count": 3,
   "metadata": {},
   "outputs": [
    {
     "data": {
      "text/html": [
       "<div>\n",
       "<style scoped>\n",
       "    .dataframe tbody tr th:only-of-type {\n",
       "        vertical-align: middle;\n",
       "    }\n",
       "\n",
       "    .dataframe tbody tr th {\n",
       "        vertical-align: top;\n",
       "    }\n",
       "\n",
       "    .dataframe thead th {\n",
       "        text-align: right;\n",
       "    }\n",
       "</style>\n",
       "<table border=\"1\" class=\"dataframe\">\n",
       "  <thead>\n",
       "    <tr style=\"text-align: right;\">\n",
       "      <th></th>\n",
       "      <th>entry_id</th>\n",
       "      <th>age</th>\n",
       "      <th>pay_schedule</th>\n",
       "      <th>home_owner</th>\n",
       "      <th>income</th>\n",
       "      <th>months_employed</th>\n",
       "      <th>years_employed</th>\n",
       "      <th>current_address_year</th>\n",
       "      <th>personal_account_m</th>\n",
       "      <th>personal_account_y</th>\n",
       "      <th>...</th>\n",
       "      <th>amount_requested</th>\n",
       "      <th>risk_score</th>\n",
       "      <th>risk_score_2</th>\n",
       "      <th>risk_score_3</th>\n",
       "      <th>risk_score_4</th>\n",
       "      <th>risk_score_5</th>\n",
       "      <th>ext_quality_score</th>\n",
       "      <th>ext_quality_score_2</th>\n",
       "      <th>inquiries_last_month</th>\n",
       "      <th>e_signed</th>\n",
       "    </tr>\n",
       "  </thead>\n",
       "  <tbody>\n",
       "    <tr>\n",
       "      <th>0</th>\n",
       "      <td>7629673</td>\n",
       "      <td>40</td>\n",
       "      <td>bi-weekly</td>\n",
       "      <td>1</td>\n",
       "      <td>3135</td>\n",
       "      <td>0</td>\n",
       "      <td>3</td>\n",
       "      <td>3</td>\n",
       "      <td>6</td>\n",
       "      <td>2</td>\n",
       "      <td>...</td>\n",
       "      <td>550</td>\n",
       "      <td>36200</td>\n",
       "      <td>0.737398</td>\n",
       "      <td>0.903517</td>\n",
       "      <td>0.487712</td>\n",
       "      <td>0.515977</td>\n",
       "      <td>0.580918</td>\n",
       "      <td>0.380918</td>\n",
       "      <td>10</td>\n",
       "      <td>1</td>\n",
       "    </tr>\n",
       "    <tr>\n",
       "      <th>1</th>\n",
       "      <td>3560428</td>\n",
       "      <td>61</td>\n",
       "      <td>weekly</td>\n",
       "      <td>0</td>\n",
       "      <td>3180</td>\n",
       "      <td>0</td>\n",
       "      <td>6</td>\n",
       "      <td>3</td>\n",
       "      <td>2</td>\n",
       "      <td>7</td>\n",
       "      <td>...</td>\n",
       "      <td>600</td>\n",
       "      <td>30150</td>\n",
       "      <td>0.738510</td>\n",
       "      <td>0.881027</td>\n",
       "      <td>0.713423</td>\n",
       "      <td>0.826402</td>\n",
       "      <td>0.730720</td>\n",
       "      <td>0.630720</td>\n",
       "      <td>9</td>\n",
       "      <td>0</td>\n",
       "    </tr>\n",
       "    <tr>\n",
       "      <th>2</th>\n",
       "      <td>6934997</td>\n",
       "      <td>23</td>\n",
       "      <td>weekly</td>\n",
       "      <td>0</td>\n",
       "      <td>1540</td>\n",
       "      <td>6</td>\n",
       "      <td>0</td>\n",
       "      <td>0</td>\n",
       "      <td>7</td>\n",
       "      <td>1</td>\n",
       "      <td>...</td>\n",
       "      <td>450</td>\n",
       "      <td>34550</td>\n",
       "      <td>0.642993</td>\n",
       "      <td>0.766554</td>\n",
       "      <td>0.595018</td>\n",
       "      <td>0.762284</td>\n",
       "      <td>0.531712</td>\n",
       "      <td>0.531712</td>\n",
       "      <td>7</td>\n",
       "      <td>0</td>\n",
       "    </tr>\n",
       "    <tr>\n",
       "      <th>3</th>\n",
       "      <td>5682812</td>\n",
       "      <td>40</td>\n",
       "      <td>bi-weekly</td>\n",
       "      <td>0</td>\n",
       "      <td>5230</td>\n",
       "      <td>0</td>\n",
       "      <td>6</td>\n",
       "      <td>1</td>\n",
       "      <td>2</td>\n",
       "      <td>7</td>\n",
       "      <td>...</td>\n",
       "      <td>700</td>\n",
       "      <td>42150</td>\n",
       "      <td>0.665224</td>\n",
       "      <td>0.960832</td>\n",
       "      <td>0.767828</td>\n",
       "      <td>0.778831</td>\n",
       "      <td>0.792552</td>\n",
       "      <td>0.592552</td>\n",
       "      <td>8</td>\n",
       "      <td>1</td>\n",
       "    </tr>\n",
       "    <tr>\n",
       "      <th>4</th>\n",
       "      <td>5335819</td>\n",
       "      <td>33</td>\n",
       "      <td>semi-monthly</td>\n",
       "      <td>0</td>\n",
       "      <td>3590</td>\n",
       "      <td>0</td>\n",
       "      <td>5</td>\n",
       "      <td>2</td>\n",
       "      <td>2</td>\n",
       "      <td>8</td>\n",
       "      <td>...</td>\n",
       "      <td>1100</td>\n",
       "      <td>53850</td>\n",
       "      <td>0.617361</td>\n",
       "      <td>0.857560</td>\n",
       "      <td>0.613487</td>\n",
       "      <td>0.665523</td>\n",
       "      <td>0.744634</td>\n",
       "      <td>0.744634</td>\n",
       "      <td>12</td>\n",
       "      <td>0</td>\n",
       "    </tr>\n",
       "  </tbody>\n",
       "</table>\n",
       "<p>5 rows × 21 columns</p>\n",
       "</div>"
      ],
      "text/plain": [
       "   entry_id  age  pay_schedule  home_owner  income  months_employed  \\\n",
       "0   7629673   40     bi-weekly           1    3135                0   \n",
       "1   3560428   61        weekly           0    3180                0   \n",
       "2   6934997   23        weekly           0    1540                6   \n",
       "3   5682812   40     bi-weekly           0    5230                0   \n",
       "4   5335819   33  semi-monthly           0    3590                0   \n",
       "\n",
       "   years_employed  current_address_year  personal_account_m  \\\n",
       "0               3                     3                   6   \n",
       "1               6                     3                   2   \n",
       "2               0                     0                   7   \n",
       "3               6                     1                   2   \n",
       "4               5                     2                   2   \n",
       "\n",
       "   personal_account_y  ...  amount_requested  risk_score  risk_score_2  \\\n",
       "0                   2  ...               550       36200      0.737398   \n",
       "1                   7  ...               600       30150      0.738510   \n",
       "2                   1  ...               450       34550      0.642993   \n",
       "3                   7  ...               700       42150      0.665224   \n",
       "4                   8  ...              1100       53850      0.617361   \n",
       "\n",
       "   risk_score_3  risk_score_4  risk_score_5  ext_quality_score  \\\n",
       "0      0.903517      0.487712      0.515977           0.580918   \n",
       "1      0.881027      0.713423      0.826402           0.730720   \n",
       "2      0.766554      0.595018      0.762284           0.531712   \n",
       "3      0.960832      0.767828      0.778831           0.792552   \n",
       "4      0.857560      0.613487      0.665523           0.744634   \n",
       "\n",
       "   ext_quality_score_2  inquiries_last_month  e_signed  \n",
       "0             0.380918                    10         1  \n",
       "1             0.630720                     9         0  \n",
       "2             0.531712                     7         0  \n",
       "3             0.592552                     8         1  \n",
       "4             0.744634                    12         0  \n",
       "\n",
       "[5 rows x 21 columns]"
      ]
     },
     "execution_count": 3,
     "metadata": {},
     "output_type": "execute_result"
    }
   ],
   "source": [
    "# check the first five rows of dataset\n",
    "dataset.head()"
   ]
  },
  {
   "cell_type": "code",
   "execution_count": 4,
   "metadata": {},
   "outputs": [
    {
     "data": {
      "text/plain": [
       "Index(['entry_id', 'age', 'pay_schedule', 'home_owner', 'income',\n",
       "       'months_employed', 'years_employed', 'current_address_year',\n",
       "       'personal_account_m', 'personal_account_y', 'has_debt',\n",
       "       'amount_requested', 'risk_score', 'risk_score_2', 'risk_score_3',\n",
       "       'risk_score_4', 'risk_score_5', 'ext_quality_score',\n",
       "       'ext_quality_score_2', 'inquiries_last_month', 'e_signed'],\n",
       "      dtype='object')"
      ]
     },
     "execution_count": 4,
     "metadata": {},
     "output_type": "execute_result"
    }
   ],
   "source": [
    "# print the columns of dataset\n",
    "dataset.columns"
   ]
  },
  {
   "cell_type": "code",
   "execution_count": 5,
   "metadata": {},
   "outputs": [
    {
     "data": {
      "text/html": [
       "<div>\n",
       "<style scoped>\n",
       "    .dataframe tbody tr th:only-of-type {\n",
       "        vertical-align: middle;\n",
       "    }\n",
       "\n",
       "    .dataframe tbody tr th {\n",
       "        vertical-align: top;\n",
       "    }\n",
       "\n",
       "    .dataframe thead th {\n",
       "        text-align: right;\n",
       "    }\n",
       "</style>\n",
       "<table border=\"1\" class=\"dataframe\">\n",
       "  <thead>\n",
       "    <tr style=\"text-align: right;\">\n",
       "      <th></th>\n",
       "      <th>entry_id</th>\n",
       "      <th>age</th>\n",
       "      <th>home_owner</th>\n",
       "      <th>income</th>\n",
       "      <th>months_employed</th>\n",
       "      <th>years_employed</th>\n",
       "      <th>current_address_year</th>\n",
       "      <th>personal_account_m</th>\n",
       "      <th>personal_account_y</th>\n",
       "      <th>has_debt</th>\n",
       "      <th>amount_requested</th>\n",
       "      <th>risk_score</th>\n",
       "      <th>risk_score_2</th>\n",
       "      <th>risk_score_3</th>\n",
       "      <th>risk_score_4</th>\n",
       "      <th>risk_score_5</th>\n",
       "      <th>ext_quality_score</th>\n",
       "      <th>ext_quality_score_2</th>\n",
       "      <th>inquiries_last_month</th>\n",
       "      <th>e_signed</th>\n",
       "    </tr>\n",
       "  </thead>\n",
       "  <tbody>\n",
       "    <tr>\n",
       "      <th>count</th>\n",
       "      <td>1.790800e+04</td>\n",
       "      <td>17908.000000</td>\n",
       "      <td>17908.000000</td>\n",
       "      <td>17908.000000</td>\n",
       "      <td>17908.000000</td>\n",
       "      <td>17908.000000</td>\n",
       "      <td>17908.000000</td>\n",
       "      <td>17908.000000</td>\n",
       "      <td>17908.000000</td>\n",
       "      <td>17908.000000</td>\n",
       "      <td>17908.000000</td>\n",
       "      <td>17908.000000</td>\n",
       "      <td>17908.000000</td>\n",
       "      <td>17908.000000</td>\n",
       "      <td>17908.000000</td>\n",
       "      <td>17908.000000</td>\n",
       "      <td>17908.000000</td>\n",
       "      <td>17908.000000</td>\n",
       "      <td>17908.000000</td>\n",
       "      <td>17908.000000</td>\n",
       "    </tr>\n",
       "    <tr>\n",
       "      <th>mean</th>\n",
       "      <td>5.596978e+06</td>\n",
       "      <td>43.015412</td>\n",
       "      <td>0.425173</td>\n",
       "      <td>3657.214653</td>\n",
       "      <td>1.186006</td>\n",
       "      <td>3.526860</td>\n",
       "      <td>3.584711</td>\n",
       "      <td>3.427183</td>\n",
       "      <td>3.503350</td>\n",
       "      <td>0.795399</td>\n",
       "      <td>950.446449</td>\n",
       "      <td>61086.302211</td>\n",
       "      <td>0.690878</td>\n",
       "      <td>0.878276</td>\n",
       "      <td>0.583155</td>\n",
       "      <td>0.718252</td>\n",
       "      <td>0.623112</td>\n",
       "      <td>0.622068</td>\n",
       "      <td>6.457226</td>\n",
       "      <td>0.538251</td>\n",
       "    </tr>\n",
       "    <tr>\n",
       "      <th>std</th>\n",
       "      <td>2.562473e+06</td>\n",
       "      <td>11.873107</td>\n",
       "      <td>0.494383</td>\n",
       "      <td>1504.890063</td>\n",
       "      <td>2.400897</td>\n",
       "      <td>2.259732</td>\n",
       "      <td>2.751937</td>\n",
       "      <td>2.216440</td>\n",
       "      <td>1.955568</td>\n",
       "      <td>0.403421</td>\n",
       "      <td>698.543683</td>\n",
       "      <td>15394.255020</td>\n",
       "      <td>0.090470</td>\n",
       "      <td>0.054563</td>\n",
       "      <td>0.125061</td>\n",
       "      <td>0.120697</td>\n",
       "      <td>0.139729</td>\n",
       "      <td>0.139898</td>\n",
       "      <td>3.673093</td>\n",
       "      <td>0.498549</td>\n",
       "    </tr>\n",
       "    <tr>\n",
       "      <th>min</th>\n",
       "      <td>1.111398e+06</td>\n",
       "      <td>18.000000</td>\n",
       "      <td>0.000000</td>\n",
       "      <td>905.000000</td>\n",
       "      <td>0.000000</td>\n",
       "      <td>0.000000</td>\n",
       "      <td>0.000000</td>\n",
       "      <td>0.000000</td>\n",
       "      <td>0.000000</td>\n",
       "      <td>0.000000</td>\n",
       "      <td>350.000000</td>\n",
       "      <td>2100.000000</td>\n",
       "      <td>0.023258</td>\n",
       "      <td>0.451371</td>\n",
       "      <td>0.016724</td>\n",
       "      <td>0.153367</td>\n",
       "      <td>0.010184</td>\n",
       "      <td>0.006622</td>\n",
       "      <td>1.000000</td>\n",
       "      <td>0.000000</td>\n",
       "    </tr>\n",
       "    <tr>\n",
       "      <th>25%</th>\n",
       "      <td>3.378999e+06</td>\n",
       "      <td>34.000000</td>\n",
       "      <td>0.000000</td>\n",
       "      <td>2580.000000</td>\n",
       "      <td>0.000000</td>\n",
       "      <td>2.000000</td>\n",
       "      <td>2.000000</td>\n",
       "      <td>2.000000</td>\n",
       "      <td>2.000000</td>\n",
       "      <td>1.000000</td>\n",
       "      <td>600.000000</td>\n",
       "      <td>49350.000000</td>\n",
       "      <td>0.640993</td>\n",
       "      <td>0.850882</td>\n",
       "      <td>0.500208</td>\n",
       "      <td>0.633708</td>\n",
       "      <td>0.521735</td>\n",
       "      <td>0.519677</td>\n",
       "      <td>4.000000</td>\n",
       "      <td>0.000000</td>\n",
       "    </tr>\n",
       "    <tr>\n",
       "      <th>50%</th>\n",
       "      <td>5.608376e+06</td>\n",
       "      <td>42.000000</td>\n",
       "      <td>0.000000</td>\n",
       "      <td>3260.000000</td>\n",
       "      <td>0.000000</td>\n",
       "      <td>3.000000</td>\n",
       "      <td>3.000000</td>\n",
       "      <td>2.000000</td>\n",
       "      <td>3.000000</td>\n",
       "      <td>1.000000</td>\n",
       "      <td>700.000000</td>\n",
       "      <td>61200.000000</td>\n",
       "      <td>0.699561</td>\n",
       "      <td>0.881004</td>\n",
       "      <td>0.588208</td>\n",
       "      <td>0.725113</td>\n",
       "      <td>0.625944</td>\n",
       "      <td>0.622974</td>\n",
       "      <td>6.000000</td>\n",
       "      <td>1.000000</td>\n",
       "    </tr>\n",
       "    <tr>\n",
       "      <th>75%</th>\n",
       "      <td>7.805624e+06</td>\n",
       "      <td>51.000000</td>\n",
       "      <td>1.000000</td>\n",
       "      <td>4670.000000</td>\n",
       "      <td>1.000000</td>\n",
       "      <td>5.000000</td>\n",
       "      <td>5.000000</td>\n",
       "      <td>5.000000</td>\n",
       "      <td>4.000000</td>\n",
       "      <td>1.000000</td>\n",
       "      <td>1100.000000</td>\n",
       "      <td>72750.000000</td>\n",
       "      <td>0.752887</td>\n",
       "      <td>0.912608</td>\n",
       "      <td>0.672395</td>\n",
       "      <td>0.806681</td>\n",
       "      <td>0.729841</td>\n",
       "      <td>0.728940</td>\n",
       "      <td>8.000000</td>\n",
       "      <td>1.000000</td>\n",
       "    </tr>\n",
       "    <tr>\n",
       "      <th>max</th>\n",
       "      <td>9.999874e+06</td>\n",
       "      <td>96.000000</td>\n",
       "      <td>1.000000</td>\n",
       "      <td>9985.000000</td>\n",
       "      <td>11.000000</td>\n",
       "      <td>16.000000</td>\n",
       "      <td>12.000000</td>\n",
       "      <td>11.000000</td>\n",
       "      <td>15.000000</td>\n",
       "      <td>1.000000</td>\n",
       "      <td>10200.000000</td>\n",
       "      <td>99750.000000</td>\n",
       "      <td>0.999997</td>\n",
       "      <td>0.999024</td>\n",
       "      <td>0.978932</td>\n",
       "      <td>0.996260</td>\n",
       "      <td>0.970249</td>\n",
       "      <td>0.966953</td>\n",
       "      <td>30.000000</td>\n",
       "      <td>1.000000</td>\n",
       "    </tr>\n",
       "  </tbody>\n",
       "</table>\n",
       "</div>"
      ],
      "text/plain": [
       "           entry_id           age    home_owner        income  \\\n",
       "count  1.790800e+04  17908.000000  17908.000000  17908.000000   \n",
       "mean   5.596978e+06     43.015412      0.425173   3657.214653   \n",
       "std    2.562473e+06     11.873107      0.494383   1504.890063   \n",
       "min    1.111398e+06     18.000000      0.000000    905.000000   \n",
       "25%    3.378999e+06     34.000000      0.000000   2580.000000   \n",
       "50%    5.608376e+06     42.000000      0.000000   3260.000000   \n",
       "75%    7.805624e+06     51.000000      1.000000   4670.000000   \n",
       "max    9.999874e+06     96.000000      1.000000   9985.000000   \n",
       "\n",
       "       months_employed  years_employed  current_address_year  \\\n",
       "count     17908.000000    17908.000000          17908.000000   \n",
       "mean          1.186006        3.526860              3.584711   \n",
       "std           2.400897        2.259732              2.751937   \n",
       "min           0.000000        0.000000              0.000000   \n",
       "25%           0.000000        2.000000              2.000000   \n",
       "50%           0.000000        3.000000              3.000000   \n",
       "75%           1.000000        5.000000              5.000000   \n",
       "max          11.000000       16.000000             12.000000   \n",
       "\n",
       "       personal_account_m  personal_account_y      has_debt  amount_requested  \\\n",
       "count        17908.000000        17908.000000  17908.000000      17908.000000   \n",
       "mean             3.427183            3.503350      0.795399        950.446449   \n",
       "std              2.216440            1.955568      0.403421        698.543683   \n",
       "min              0.000000            0.000000      0.000000        350.000000   \n",
       "25%              2.000000            2.000000      1.000000        600.000000   \n",
       "50%              2.000000            3.000000      1.000000        700.000000   \n",
       "75%              5.000000            4.000000      1.000000       1100.000000   \n",
       "max             11.000000           15.000000      1.000000      10200.000000   \n",
       "\n",
       "         risk_score  risk_score_2  risk_score_3  risk_score_4  risk_score_5  \\\n",
       "count  17908.000000  17908.000000  17908.000000  17908.000000  17908.000000   \n",
       "mean   61086.302211      0.690878      0.878276      0.583155      0.718252   \n",
       "std    15394.255020      0.090470      0.054563      0.125061      0.120697   \n",
       "min     2100.000000      0.023258      0.451371      0.016724      0.153367   \n",
       "25%    49350.000000      0.640993      0.850882      0.500208      0.633708   \n",
       "50%    61200.000000      0.699561      0.881004      0.588208      0.725113   \n",
       "75%    72750.000000      0.752887      0.912608      0.672395      0.806681   \n",
       "max    99750.000000      0.999997      0.999024      0.978932      0.996260   \n",
       "\n",
       "       ext_quality_score  ext_quality_score_2  inquiries_last_month  \\\n",
       "count       17908.000000         17908.000000          17908.000000   \n",
       "mean            0.623112             0.622068              6.457226   \n",
       "std             0.139729             0.139898              3.673093   \n",
       "min             0.010184             0.006622              1.000000   \n",
       "25%             0.521735             0.519677              4.000000   \n",
       "50%             0.625944             0.622974              6.000000   \n",
       "75%             0.729841             0.728940              8.000000   \n",
       "max             0.970249             0.966953             30.000000   \n",
       "\n",
       "           e_signed  \n",
       "count  17908.000000  \n",
       "mean       0.538251  \n",
       "std        0.498549  \n",
       "min        0.000000  \n",
       "25%        0.000000  \n",
       "50%        1.000000  \n",
       "75%        1.000000  \n",
       "max        1.000000  "
      ]
     },
     "execution_count": 5,
     "metadata": {},
     "output_type": "execute_result"
    }
   ],
   "source": [
    "# check the description of dataset\n",
    "dataset.describe()"
   ]
  },
  {
   "cell_type": "code",
   "execution_count": 6,
   "metadata": {},
   "outputs": [],
   "source": [
    "# Cleaning the dataset"
   ]
  },
  {
   "cell_type": "code",
   "execution_count": 7,
   "metadata": {},
   "outputs": [
    {
     "data": {
      "text/plain": [
       "entry_id                False\n",
       "age                     False\n",
       "pay_schedule            False\n",
       "home_owner              False\n",
       "income                  False\n",
       "months_employed         False\n",
       "years_employed          False\n",
       "current_address_year    False\n",
       "personal_account_m      False\n",
       "personal_account_y      False\n",
       "has_debt                False\n",
       "amount_requested        False\n",
       "risk_score              False\n",
       "risk_score_2            False\n",
       "risk_score_3            False\n",
       "risk_score_4            False\n",
       "risk_score_5            False\n",
       "ext_quality_score       False\n",
       "ext_quality_score_2     False\n",
       "inquiries_last_month    False\n",
       "e_signed                False\n",
       "dtype: bool"
      ]
     },
     "execution_count": 7,
     "metadata": {},
     "output_type": "execute_result"
    }
   ],
   "source": [
    "# check if any na value present in columns or not\n",
    "dataset.isna().any()"
   ]
  },
  {
   "cell_type": "markdown",
   "metadata": {},
   "source": [
    "### Histogram"
   ]
  },
  {
   "cell_type": "code",
   "execution_count": 8,
   "metadata": {},
   "outputs": [
    {
     "data": {
      "image/png": "[encoded data removed]",
      "text/plain": [
       "<Figure size 1080x864 with 18 Axes>"
      ]
     },
     "metadata": {
      "needs_background": "light"
     },
     "output_type": "display_data"
    }
   ],
   "source": [
    "dataset2 = dataset.drop(columns=[\"entry_id\",\"pay_schedule\",\"e_signed\"])\n",
    "\n",
    "fig = plt.figure(figsize=(15,12))\n",
    "plt.suptitle('Histograms of Numerical Columns',fontsize=20)\n",
    "for i in range(dataset2.shape[1]):\n",
    "    plt.subplot(6,3,i+1)\n",
    "    f = plt.gca()\n",
    "    f.set_title(dataset2.columns.values[i])\n",
    "    \n",
    "    vals = np.size(dataset2.iloc[:,i].unique())\n",
    "    if vals >=100:\n",
    "        vals=100\n",
    "    plt.hist(dataset2.iloc[:,i],bins=vals,color='#3F5D7D')\n",
    "plt.tight_layout(rect=[0,0.03,1,0.95])"
   ]
  },
  {
   "cell_type": "code",
   "execution_count": 9,
   "metadata": {},
   "outputs": [
    {
     "data": {
      "image/png": "[encoded data removed]",
      "text/plain": [
       "<Figure size 1440x720 with 1 Axes>"
      ]
     },
     "metadata": {
      "needs_background": "light"
     },
     "output_type": "display_data"
    }
   ],
   "source": [
    "# correlation with response variable(e_signed)\n",
    "\n",
    "dataset2.corrwith(dataset.e_signed).plot.bar(\n",
    "                    figsize=(20,10),title=\"Correlation with E Signed\",fontsize=15,\n",
    "                    rot=45,grid=True\n",
    "                    )\n",
    "plt.show()"
   ]
  },
  {
   "cell_type": "code",
   "execution_count": 10,
   "metadata": {},
   "outputs": [
    {
     "data": {
      "image/png": "[encoded data removed]",
      "text/plain": [
       "<Figure size 1296x1080 with 2 Axes>"
      ]
     },
     "metadata": {},
     "output_type": "display_data"
    }
   ],
   "source": [
    "# plot Correlation Matrix\n",
    "\n",
    "sns.set(style=\"white\")\n",
    "\n",
    "# compute the correlation matrix\n",
    "corr = dataset2.corr()\n",
    "\n",
    "# generate a mask for the upper triangle\n",
    "mask = np.zeros_like(corr,dtype=np.bool)\n",
    "mask[np.triu_indices_from(mask)] = True\n",
    "\n",
    "# setup the matplotlib figure\n",
    "f,ax = plt.subplots(figsize=(18,15))\n",
    "\n",
    "# Generate a custom diverging colormap\n",
    "cmap = sns.diverging_palette(220,10,as_cmap=True)\n",
    "\n",
    "# Draw the heatmap with the mask and correct aspect ratio\n",
    "sns.heatmap(corr,mask=mask,cmap=cmap,vmax=.3,center=0,square=True,linewidths=.5,cbar_kws={\"shrink\":.5})\n",
    "\n",
    "plt.show()"
   ]
  },
  {
   "cell_type": "markdown",
   "metadata": {},
   "source": [
    "<h2 style='color:#2c71e8'>Data Preprocessing</h2>"
   ]
  },
  {
   "cell_type": "code",
   "execution_count": 11,
   "metadata": {},
   "outputs": [],
   "source": [
    "dataset = pd.read_csv('P39-Financial-Data.csv')"
   ]
  },
  {
   "cell_type": "code",
   "execution_count": 12,
   "metadata": {},
   "outputs": [],
   "source": [
    "dataset['personal_account_months'] = (dataset.personal_account_m + (dataset.personal_account_y*12))"
   ]
  },
  {
   "cell_type": "code",
   "execution_count": 13,
   "metadata": {},
   "outputs": [
    {
     "data": {
      "text/html": [
       "<div>\n",
       "<style scoped>\n",
       "    .dataframe tbody tr th:only-of-type {\n",
       "        vertical-align: middle;\n",
       "    }\n",
       "\n",
       "    .dataframe tbody tr th {\n",
       "        vertical-align: top;\n",
       "    }\n",
       "\n",
       "    .dataframe thead th {\n",
       "        text-align: right;\n",
       "    }\n",
       "</style>\n",
       "<table border=\"1\" class=\"dataframe\">\n",
       "  <thead>\n",
       "    <tr style=\"text-align: right;\">\n",
       "      <th></th>\n",
       "      <th>personal_account_m</th>\n",
       "      <th>personal_account_y</th>\n",
       "      <th>personal_account_months</th>\n",
       "    </tr>\n",
       "  </thead>\n",
       "  <tbody>\n",
       "    <tr>\n",
       "      <th>0</th>\n",
       "      <td>6</td>\n",
       "      <td>2</td>\n",
       "      <td>30</td>\n",
       "    </tr>\n",
       "    <tr>\n",
       "      <th>1</th>\n",
       "      <td>2</td>\n",
       "      <td>7</td>\n",
       "      <td>86</td>\n",
       "    </tr>\n",
       "    <tr>\n",
       "      <th>2</th>\n",
       "      <td>7</td>\n",
       "      <td>1</td>\n",
       "      <td>19</td>\n",
       "    </tr>\n",
       "    <tr>\n",
       "      <th>3</th>\n",
       "      <td>2</td>\n",
       "      <td>7</td>\n",
       "      <td>86</td>\n",
       "    </tr>\n",
       "    <tr>\n",
       "      <th>4</th>\n",
       "      <td>2</td>\n",
       "      <td>8</td>\n",
       "      <td>98</td>\n",
       "    </tr>\n",
       "  </tbody>\n",
       "</table>\n",
       "</div>"
      ],
      "text/plain": [
       "   personal_account_m  personal_account_y  personal_account_months\n",
       "0                   6                   2                       30\n",
       "1                   2                   7                       86\n",
       "2                   7                   1                       19\n",
       "3                   2                   7                       86\n",
       "4                   2                   8                       98"
      ]
     },
     "execution_count": 13,
     "metadata": {},
     "output_type": "execute_result"
    }
   ],
   "source": [
    "# check first five rows\n",
    "dataset[['personal_account_m','personal_account_y','personal_account_months']].head()"
   ]
  },
  {
   "cell_type": "code",
   "execution_count": 14,
   "metadata": {},
   "outputs": [],
   "source": [
    "# drop personal_account_m  and personal_account_y columns from dataset\n",
    "dataset = dataset.drop(columns=['personal_account_m','personal_account_y'])"
   ]
  },
  {
   "cell_type": "code",
   "execution_count": 15,
   "metadata": {},
   "outputs": [
    {
     "name": "stdout",
     "output_type": "stream",
     "text": [
      "Index(['entry_id', 'age', 'home_owner', 'income', 'months_employed',\n",
      "       'years_employed', 'current_address_year', 'has_debt',\n",
      "       'amount_requested', 'risk_score', 'risk_score_2', 'risk_score_3',\n",
      "       'risk_score_4', 'risk_score_5', 'ext_quality_score',\n",
      "       'ext_quality_score_2', 'inquiries_last_month', 'e_signed',\n",
      "       'personal_account_months', 'pay_schedule_bi-weekly',\n",
      "       'pay_schedule_monthly', 'pay_schedule_semi-monthly',\n",
      "       'pay_schedule_weekly'],\n",
      "      dtype='object')\n"
     ]
    }
   ],
   "source": [
    "# one hot encoding\n",
    "\n",
    "dataset = pd.get_dummies(dataset)\n",
    "print(dataset.columns)"
   ]
  },
  {
   "cell_type": "code",
   "execution_count": 16,
   "metadata": {},
   "outputs": [],
   "source": [
    "# to avoid dummy variable trap we drop pay_schedule_semi-monthly\n",
    "dataset = dataset.drop(columns=['pay_schedule_semi-monthly'])"
   ]
  },
  {
   "cell_type": "code",
   "execution_count": 17,
   "metadata": {},
   "outputs": [],
   "source": [
    "# removing extra columns\n",
    "response = dataset.e_signed\n",
    "users = dataset.entry_id\n",
    "dataset = dataset.drop(columns=['e_signed','entry_id'])"
   ]
  },
  {
   "cell_type": "code",
   "execution_count": 18,
   "metadata": {},
   "outputs": [],
   "source": [
    "# splitting the dataset into Train and Test set\n",
    "\n",
    "from sklearn.model_selection import train_test_split\n",
    "X_train,X_test,y_train,y_test = train_test_split(dataset,\n",
    "                                                 response,\n",
    "                                                 test_size=0.2,\n",
    "                                                 random_state=0\n",
    "                                                )"
   ]
  },
  {
   "cell_type": "code",
   "execution_count": 19,
   "metadata": {},
   "outputs": [],
   "source": [
    "# Feature Scaling\n",
    "\n",
    "from sklearn.preprocessing import StandardScaler\n",
    "sc_X = StandardScaler()\n",
    "X_train2 = pd.DataFrame(sc_X.fit_transform(X_train))\n",
    "X_test2 = pd.DataFrame(sc_X.transform(X_test))\n",
    "X_train2.columns = X_train.columns.values\n",
    "X_test2.columns = X_test.columns.values\n",
    "X_train2.index = X_train.index.values\n",
    "X_test2.index = X_test.index.values\n",
    "\n",
    "X_train = X_train2\n",
    "X_test = X_test2"
   ]
  },
  {
   "cell_type": "code",
   "execution_count": 20,
   "metadata": {},
   "outputs": [
    {
     "data": {
      "text/html": [
       "<div>\n",
       "<style scoped>\n",
       "    .dataframe tbody tr th:only-of-type {\n",
       "        vertical-align: middle;\n",
       "    }\n",
       "\n",
       "    .dataframe tbody tr th {\n",
       "        vertical-align: top;\n",
       "    }\n",
       "\n",
       "    .dataframe thead th {\n",
       "        text-align: right;\n",
       "    }\n",
       "</style>\n",
       "<table border=\"1\" class=\"dataframe\">\n",
       "  <thead>\n",
       "    <tr style=\"text-align: right;\">\n",
       "      <th></th>\n",
       "      <th>age</th>\n",
       "      <th>home_owner</th>\n",
       "      <th>income</th>\n",
       "      <th>months_employed</th>\n",
       "      <th>years_employed</th>\n",
       "      <th>current_address_year</th>\n",
       "      <th>has_debt</th>\n",
       "      <th>amount_requested</th>\n",
       "      <th>risk_score</th>\n",
       "      <th>risk_score_2</th>\n",
       "      <th>risk_score_3</th>\n",
       "      <th>risk_score_4</th>\n",
       "      <th>risk_score_5</th>\n",
       "      <th>ext_quality_score</th>\n",
       "      <th>ext_quality_score_2</th>\n",
       "      <th>inquiries_last_month</th>\n",
       "      <th>personal_account_months</th>\n",
       "      <th>pay_schedule_bi-weekly</th>\n",
       "      <th>pay_schedule_monthly</th>\n",
       "      <th>pay_schedule_weekly</th>\n",
       "    </tr>\n",
       "  </thead>\n",
       "  <tbody>\n",
       "    <tr>\n",
       "      <th>5957</th>\n",
       "      <td>-0.005991</td>\n",
       "      <td>-0.856349</td>\n",
       "      <td>-0.242358</td>\n",
       "      <td>2.010065</td>\n",
       "      <td>-1.567782</td>\n",
       "      <td>-0.573557</td>\n",
       "      <td>0.507058</td>\n",
       "      <td>-0.642580</td>\n",
       "      <td>-1.905162</td>\n",
       "      <td>-1.190501</td>\n",
       "      <td>-0.766112</td>\n",
       "      <td>0.979893</td>\n",
       "      <td>-0.229380</td>\n",
       "      <td>-1.060059</td>\n",
       "      <td>-1.057386</td>\n",
       "      <td>1.784494</td>\n",
       "      <td>0.368965</td>\n",
       "      <td>-1.224638</td>\n",
       "      <td>-0.302360</td>\n",
       "      <td>1.976827</td>\n",
       "    </tr>\n",
       "    <tr>\n",
       "      <th>16854</th>\n",
       "      <td>-0.509890</td>\n",
       "      <td>-0.856349</td>\n",
       "      <td>-0.052592</td>\n",
       "      <td>1.592692</td>\n",
       "      <td>0.206559</td>\n",
       "      <td>-0.937970</td>\n",
       "      <td>0.507058</td>\n",
       "      <td>-0.785621</td>\n",
       "      <td>-0.749184</td>\n",
       "      <td>1.254553</td>\n",
       "      <td>0.607772</td>\n",
       "      <td>-0.396208</td>\n",
       "      <td>0.823356</td>\n",
       "      <td>0.041801</td>\n",
       "      <td>-0.672086</td>\n",
       "      <td>-0.663369</td>\n",
       "      <td>-0.280906</td>\n",
       "      <td>-1.224638</td>\n",
       "      <td>3.307315</td>\n",
       "      <td>-0.505861</td>\n",
       "    </tr>\n",
       "    <tr>\n",
       "      <th>4429</th>\n",
       "      <td>-0.761840</td>\n",
       "      <td>1.167748</td>\n",
       "      <td>-0.412149</td>\n",
       "      <td>-0.494169</td>\n",
       "      <td>-1.124197</td>\n",
       "      <td>-0.937970</td>\n",
       "      <td>-1.972161</td>\n",
       "      <td>-0.642580</td>\n",
       "      <td>-1.437575</td>\n",
       "      <td>0.532590</td>\n",
       "      <td>-1.485619</td>\n",
       "      <td>-0.086860</td>\n",
       "      <td>-0.775633</td>\n",
       "      <td>0.588358</td>\n",
       "      <td>-0.841550</td>\n",
       "      <td>1.240525</td>\n",
       "      <td>0.195666</td>\n",
       "      <td>0.816568</td>\n",
       "      <td>-0.302360</td>\n",
       "      <td>-0.505861</td>\n",
       "    </tr>\n",
       "  </tbody>\n",
       "</table>\n",
       "</div>"
      ],
      "text/plain": [
       "            age  home_owner    income  months_employed  years_employed  \\\n",
       "5957  -0.005991   -0.856349 -0.242358         2.010065       -1.567782   \n",
       "16854 -0.509890   -0.856349 -0.052592         1.592692        0.206559   \n",
       "4429  -0.761840    1.167748 -0.412149        -0.494169       -1.124197   \n",
       "\n",
       "       current_address_year  has_debt  amount_requested  risk_score  \\\n",
       "5957              -0.573557  0.507058         -0.642580   -1.905162   \n",
       "16854             -0.937970  0.507058         -0.785621   -0.749184   \n",
       "4429              -0.937970 -1.972161         -0.642580   -1.437575   \n",
       "\n",
       "       risk_score_2  risk_score_3  risk_score_4  risk_score_5  \\\n",
       "5957      -1.190501     -0.766112      0.979893     -0.229380   \n",
       "16854      1.254553      0.607772     -0.396208      0.823356   \n",
       "4429       0.532590     -1.485619     -0.086860     -0.775633   \n",
       "\n",
       "       ext_quality_score  ext_quality_score_2  inquiries_last_month  \\\n",
       "5957           -1.060059            -1.057386              1.784494   \n",
       "16854           0.041801            -0.672086             -0.663369   \n",
       "4429            0.588358            -0.841550              1.240525   \n",
       "\n",
       "       personal_account_months  pay_schedule_bi-weekly  pay_schedule_monthly  \\\n",
       "5957                  0.368965               -1.224638             -0.302360   \n",
       "16854                -0.280906               -1.224638              3.307315   \n",
       "4429                  0.195666                0.816568             -0.302360   \n",
       "\n",
       "       pay_schedule_weekly  \n",
       "5957              1.976827  \n",
       "16854            -0.505861  \n",
       "4429             -0.505861  "
      ]
     },
     "execution_count": 20,
     "metadata": {},
     "output_type": "execute_result"
    }
   ],
   "source": [
    "# check X_train after scaling\n",
    "X_train.head(3)"
   ]
  },
  {
   "cell_type": "code",
   "execution_count": 21,
   "metadata": {},
   "outputs": [
    {
     "data": {
      "text/html": [
       "<div>\n",
       "<style scoped>\n",
       "    .dataframe tbody tr th:only-of-type {\n",
       "        vertical-align: middle;\n",
       "    }\n",
       "\n",
       "    .dataframe tbody tr th {\n",
       "        vertical-align: top;\n",
       "    }\n",
       "\n",
       "    .dataframe thead th {\n",
       "        text-align: right;\n",
       "    }\n",
       "</style>\n",
       "<table border=\"1\" class=\"dataframe\">\n",
       "  <thead>\n",
       "    <tr style=\"text-align: right;\">\n",
       "      <th></th>\n",
       "      <th>age</th>\n",
       "      <th>home_owner</th>\n",
       "      <th>income</th>\n",
       "      <th>months_employed</th>\n",
       "      <th>years_employed</th>\n",
       "      <th>current_address_year</th>\n",
       "      <th>has_debt</th>\n",
       "      <th>amount_requested</th>\n",
       "      <th>risk_score</th>\n",
       "      <th>risk_score_2</th>\n",
       "      <th>risk_score_3</th>\n",
       "      <th>risk_score_4</th>\n",
       "      <th>risk_score_5</th>\n",
       "      <th>ext_quality_score</th>\n",
       "      <th>ext_quality_score_2</th>\n",
       "      <th>inquiries_last_month</th>\n",
       "      <th>personal_account_months</th>\n",
       "      <th>pay_schedule_bi-weekly</th>\n",
       "      <th>pay_schedule_monthly</th>\n",
       "      <th>pay_schedule_weekly</th>\n",
       "    </tr>\n",
       "  </thead>\n",
       "  <tbody>\n",
       "    <tr>\n",
       "      <th>3629</th>\n",
       "      <td>-1.013789</td>\n",
       "      <td>-0.856349</td>\n",
       "      <td>-0.242358</td>\n",
       "      <td>-0.494169</td>\n",
       "      <td>-1.124197</td>\n",
       "      <td>-1.302383</td>\n",
       "      <td>0.507058</td>\n",
       "      <td>0.358706</td>\n",
       "      <td>-0.944012</td>\n",
       "      <td>0.548408</td>\n",
       "      <td>-1.076350</td>\n",
       "      <td>0.059153</td>\n",
       "      <td>0.326152</td>\n",
       "      <td>0.314517</td>\n",
       "      <td>-0.399633</td>\n",
       "      <td>0.696555</td>\n",
       "      <td>-0.324231</td>\n",
       "      <td>-1.224638</td>\n",
       "      <td>-0.30236</td>\n",
       "      <td>-0.505861</td>\n",
       "    </tr>\n",
       "    <tr>\n",
       "      <th>1820</th>\n",
       "      <td>-1.013789</td>\n",
       "      <td>-0.856349</td>\n",
       "      <td>-0.335577</td>\n",
       "      <td>-0.494169</td>\n",
       "      <td>-0.237027</td>\n",
       "      <td>-1.302383</td>\n",
       "      <td>-1.972161</td>\n",
       "      <td>-0.213457</td>\n",
       "      <td>0.767226</td>\n",
       "      <td>-0.024644</td>\n",
       "      <td>-0.047016</td>\n",
       "      <td>-0.029979</td>\n",
       "      <td>0.641494</td>\n",
       "      <td>-0.781613</td>\n",
       "      <td>-0.063715</td>\n",
       "      <td>-1.207338</td>\n",
       "      <td>0.195666</td>\n",
       "      <td>0.816568</td>\n",
       "      <td>-0.30236</td>\n",
       "      <td>-0.505861</td>\n",
       "    </tr>\n",
       "    <tr>\n",
       "      <th>6685</th>\n",
       "      <td>0.245958</td>\n",
       "      <td>-0.856349</td>\n",
       "      <td>-0.598586</td>\n",
       "      <td>-0.494169</td>\n",
       "      <td>2.868070</td>\n",
       "      <td>0.884094</td>\n",
       "      <td>0.507058</td>\n",
       "      <td>0.215665</td>\n",
       "      <td>0.757484</td>\n",
       "      <td>-1.051686</td>\n",
       "      <td>-0.521003</td>\n",
       "      <td>-1.033452</td>\n",
       "      <td>-1.293930</td>\n",
       "      <td>-0.505566</td>\n",
       "      <td>-0.503429</td>\n",
       "      <td>-0.391384</td>\n",
       "      <td>-0.844128</td>\n",
       "      <td>-1.224638</td>\n",
       "      <td>-0.30236</td>\n",
       "      <td>-0.505861</td>\n",
       "    </tr>\n",
       "  </tbody>\n",
       "</table>\n",
       "</div>"
      ],
      "text/plain": [
       "           age  home_owner    income  months_employed  years_employed  \\\n",
       "3629 -1.013789   -0.856349 -0.242358        -0.494169       -1.124197   \n",
       "1820 -1.013789   -0.856349 -0.335577        -0.494169       -0.237027   \n",
       "6685  0.245958   -0.856349 -0.598586        -0.494169        2.868070   \n",
       "\n",
       "      current_address_year  has_debt  amount_requested  risk_score  \\\n",
       "3629             -1.302383  0.507058          0.358706   -0.944012   \n",
       "1820             -1.302383 -1.972161         -0.213457    0.767226   \n",
       "6685              0.884094  0.507058          0.215665    0.757484   \n",
       "\n",
       "      risk_score_2  risk_score_3  risk_score_4  risk_score_5  \\\n",
       "3629      0.548408     -1.076350      0.059153      0.326152   \n",
       "1820     -0.024644     -0.047016     -0.029979      0.641494   \n",
       "6685     -1.051686     -0.521003     -1.033452     -1.293930   \n",
       "\n",
       "      ext_quality_score  ext_quality_score_2  inquiries_last_month  \\\n",
       "3629           0.314517            -0.399633              0.696555   \n",
       "1820          -0.781613            -0.063715             -1.207338   \n",
       "6685          -0.505566            -0.503429             -0.391384   \n",
       "\n",
       "      personal_account_months  pay_schedule_bi-weekly  pay_schedule_monthly  \\\n",
       "3629                -0.324231               -1.224638              -0.30236   \n",
       "1820                 0.195666                0.816568              -0.30236   \n",
       "6685                -0.844128               -1.224638              -0.30236   \n",
       "\n",
       "      pay_schedule_weekly  \n",
       "3629            -0.505861  \n",
       "1820            -0.505861  \n",
       "6685            -0.505861  "
      ]
     },
     "execution_count": 21,
     "metadata": {},
     "output_type": "execute_result"
    }
   ],
   "source": [
    "# check X_test after scaling\n",
    "X_test.head(3)"
   ]
  },
  {
   "cell_type": "markdown",
   "metadata": {},
   "source": [
    "<h2 style='color:#2c71e8'>Model Building</h2>"
   ]
  },
  {
   "cell_type": "markdown",
   "metadata": {},
   "source": [
    "#### Compare Different Models"
   ]
  },
  {
   "cell_type": "code",
   "execution_count": 22,
   "metadata": {},
   "outputs": [
    {
     "data": {
      "text/plain": [
       "LogisticRegression(C=1.0, class_weight=None, dual=False, fit_intercept=True,\n",
       "                   intercept_scaling=1, l1_ratio=None, max_iter=100,\n",
       "                   multi_class='auto', n_jobs=None, penalty='l1',\n",
       "                   random_state=0, solver='liblinear', tol=0.0001, verbose=0,\n",
       "                   warm_start=False)"
      ]
     },
     "execution_count": 22,
     "metadata": {},
     "output_type": "execute_result"
    }
   ],
   "source": [
    "# logistic regression\n",
    "\n",
    "from sklearn.linear_model import LogisticRegression\n",
    "classifier = LogisticRegression(random_state=0,penalty='l1',solver='liblinear')\n",
    "classifier.fit(X_train,y_train)"
   ]
  },
  {
   "cell_type": "code",
   "execution_count": 23,
   "metadata": {},
   "outputs": [
    {
     "data": {
      "text/plain": [
       "array([1, 1, 1, ..., 1, 1, 1], dtype=int64)"
      ]
     },
     "execution_count": 23,
     "metadata": {},
     "output_type": "execute_result"
    }
   ],
   "source": [
    "# predicting test set\n",
    "y_pred = classifier.predict(X_test)\n",
    "y_pred"
   ]
  },
  {
   "cell_type": "code",
   "execution_count": 24,
   "metadata": {},
   "outputs": [
    {
     "name": "stdout",
     "output_type": "stream",
     "text": [
      "Accuracy on test data is 0.56%\n"
     ]
    }
   ],
   "source": [
    "# Evaluating the model\n",
    "\n",
    "from sklearn.metrics import confusion_matrix,accuracy_score,f1_score,precision_score,recall_score\n",
    "\n",
    "acc = accuracy_score(y_test,y_pred)\n",
    "print(f'Accuracy on test data is {acc:.2f}%')"
   ]
  },
  {
   "cell_type": "code",
   "execution_count": 25,
   "metadata": {},
   "outputs": [
    {
     "name": "stdout",
     "output_type": "stream",
     "text": [
      "Precision score on test data is 0.58%\n"
     ]
    }
   ],
   "source": [
    "prec = precision_score(y_test,y_pred)\n",
    "print(f'Precision score on test data is {prec:.2f}%')"
   ]
  },
  {
   "cell_type": "code",
   "execution_count": 26,
   "metadata": {},
   "outputs": [
    {
     "name": "stdout",
     "output_type": "stream",
     "text": [
      "Recall score on test data is 0.71%\n"
     ]
    }
   ],
   "source": [
    "rec = recall_score(y_test,y_pred)\n",
    "print(f'Recall score on test data is {rec:.2f}%')"
   ]
  },
  {
   "cell_type": "code",
   "execution_count": 27,
   "metadata": {},
   "outputs": [
    {
     "name": "stdout",
     "output_type": "stream",
     "text": [
      "f1 score on test data is 0.63%\n"
     ]
    }
   ],
   "source": [
    "f1 = f1_score(y_test,y_pred)\n",
    "print(f'f1 score on test data is {f1:.2f}%')"
   ]
  },
  {
   "cell_type": "markdown",
   "metadata": {},
   "source": [
    "- Display all results together"
   ]
  },
  {
   "cell_type": "code",
   "execution_count": 28,
   "metadata": {},
   "outputs": [
    {
     "data": {
      "text/html": [
       "<div>\n",
       "<style scoped>\n",
       "    .dataframe tbody tr th:only-of-type {\n",
       "        vertical-align: middle;\n",
       "    }\n",
       "\n",
       "    .dataframe tbody tr th {\n",
       "        vertical-align: top;\n",
       "    }\n",
       "\n",
       "    .dataframe thead th {\n",
       "        text-align: right;\n",
       "    }\n",
       "</style>\n",
       "<table border=\"1\" class=\"dataframe\">\n",
       "  <thead>\n",
       "    <tr style=\"text-align: right;\">\n",
       "      <th></th>\n",
       "      <th>Model</th>\n",
       "      <th>Accuracy</th>\n",
       "      <th>Precision</th>\n",
       "      <th>Recall</th>\n",
       "      <th>F1 Score</th>\n",
       "    </tr>\n",
       "  </thead>\n",
       "  <tbody>\n",
       "    <tr>\n",
       "      <th>0</th>\n",
       "      <td>Logistic Regression (Lasso)</td>\n",
       "      <td>0.562256</td>\n",
       "      <td>0.576271</td>\n",
       "      <td>0.705394</td>\n",
       "      <td>0.634328</td>\n",
       "    </tr>\n",
       "  </tbody>\n",
       "</table>\n",
       "</div>"
      ],
      "text/plain": [
       "                         Model  Accuracy  Precision    Recall  F1 Score\n",
       "0  Logistic Regression (Lasso)  0.562256   0.576271  0.705394  0.634328"
      ]
     },
     "execution_count": 28,
     "metadata": {},
     "output_type": "execute_result"
    }
   ],
   "source": [
    "results = pd.DataFrame([['Logistic Regression (Lasso)',acc,prec,rec,f1]],\n",
    "                      columns=['Model','Accuracy','Precision','Recall','F1 Score']\n",
    "                      )\n",
    "results"
   ]
  },
  {
   "cell_type": "code",
   "execution_count": 29,
   "metadata": {},
   "outputs": [
    {
     "data": {
      "text/html": [
       "<div>\n",
       "<style scoped>\n",
       "    .dataframe tbody tr th:only-of-type {\n",
       "        vertical-align: middle;\n",
       "    }\n",
       "\n",
       "    .dataframe tbody tr th {\n",
       "        vertical-align: top;\n",
       "    }\n",
       "\n",
       "    .dataframe thead th {\n",
       "        text-align: right;\n",
       "    }\n",
       "</style>\n",
       "<table border=\"1\" class=\"dataframe\">\n",
       "  <thead>\n",
       "    <tr style=\"text-align: right;\">\n",
       "      <th></th>\n",
       "      <th>Model</th>\n",
       "      <th>Accuracy</th>\n",
       "      <th>Precision</th>\n",
       "      <th>Recall</th>\n",
       "      <th>F1 Score</th>\n",
       "    </tr>\n",
       "  </thead>\n",
       "  <tbody>\n",
       "    <tr>\n",
       "      <th>0</th>\n",
       "      <td>Logistic Regression (Lasso)</td>\n",
       "      <td>0.562256</td>\n",
       "      <td>0.576271</td>\n",
       "      <td>0.705394</td>\n",
       "      <td>0.634328</td>\n",
       "    </tr>\n",
       "    <tr>\n",
       "      <th>1</th>\n",
       "      <td>Support Vector Machine(Linear)</td>\n",
       "      <td>0.568956</td>\n",
       "      <td>0.578240</td>\n",
       "      <td>0.735996</td>\n",
       "      <td>0.647649</td>\n",
       "    </tr>\n",
       "  </tbody>\n",
       "</table>\n",
       "</div>"
      ],
      "text/plain": [
       "                            Model  Accuracy  Precision    Recall  F1 Score\n",
       "0     Logistic Regression (Lasso)  0.562256   0.576271  0.705394  0.634328\n",
       "1  Support Vector Machine(Linear)  0.568956   0.578240  0.735996  0.647649"
      ]
     },
     "execution_count": 29,
     "metadata": {},
     "output_type": "execute_result"
    }
   ],
   "source": [
    "# Support Vector Machine (linear)\n",
    "\n",
    "from sklearn.svm import SVC\n",
    "classifier = SVC(random_state=0,kernel='linear')\n",
    "classifier.fit(X_train,y_train)\n",
    "\n",
    "# predicting test set\n",
    "y_pred = classifier.predict(X_test)\n",
    "\n",
    "acc = accuracy_score(y_test,y_pred)   # calculate accuracy\n",
    "prec = precision_score(y_test,y_pred) # calculate precision score\n",
    "rec = recall_score(y_test,y_pred)     # calculate recall score\n",
    "f1 = f1_score(y_test,y_pred)          # calculate f1 score\n",
    "\n",
    "model_results = pd.DataFrame([['Support Vector Machine(Linear)',acc,prec,rec,f1]],\n",
    "                      columns=['Model','Accuracy','Precision','Recall','F1 Score']\n",
    "                      )\n",
    "\n",
    "# append dataframe\n",
    "results = results.append(model_results,ignore_index=True)\n",
    "results"
   ]
  },
  {
   "cell_type": "code",
   "execution_count": 30,
   "metadata": {},
   "outputs": [
    {
     "data": {
      "text/html": [
       "<div>\n",
       "<style scoped>\n",
       "    .dataframe tbody tr th:only-of-type {\n",
       "        vertical-align: middle;\n",
       "    }\n",
       "\n",
       "    .dataframe tbody tr th {\n",
       "        vertical-align: top;\n",
       "    }\n",
       "\n",
       "    .dataframe thead th {\n",
       "        text-align: right;\n",
       "    }\n",
       "</style>\n",
       "<table border=\"1\" class=\"dataframe\">\n",
       "  <thead>\n",
       "    <tr style=\"text-align: right;\">\n",
       "      <th></th>\n",
       "      <th>Model</th>\n",
       "      <th>Accuracy</th>\n",
       "      <th>Precision</th>\n",
       "      <th>Recall</th>\n",
       "      <th>F1 Score</th>\n",
       "    </tr>\n",
       "  </thead>\n",
       "  <tbody>\n",
       "    <tr>\n",
       "      <th>0</th>\n",
       "      <td>Logistic Regression (Lasso)</td>\n",
       "      <td>0.562256</td>\n",
       "      <td>0.576271</td>\n",
       "      <td>0.705394</td>\n",
       "      <td>0.634328</td>\n",
       "    </tr>\n",
       "    <tr>\n",
       "      <th>1</th>\n",
       "      <td>Support Vector Machine(Linear)</td>\n",
       "      <td>0.568956</td>\n",
       "      <td>0.578240</td>\n",
       "      <td>0.735996</td>\n",
       "      <td>0.647649</td>\n",
       "    </tr>\n",
       "    <tr>\n",
       "      <th>2</th>\n",
       "      <td>Support Vector Machine(RBF)</td>\n",
       "      <td>0.592686</td>\n",
       "      <td>0.605678</td>\n",
       "      <td>0.697095</td>\n",
       "      <td>0.648179</td>\n",
       "    </tr>\n",
       "  </tbody>\n",
       "</table>\n",
       "</div>"
      ],
      "text/plain": [
       "                            Model  Accuracy  Precision    Recall  F1 Score\n",
       "0     Logistic Regression (Lasso)  0.562256   0.576271  0.705394  0.634328\n",
       "1  Support Vector Machine(Linear)  0.568956   0.578240  0.735996  0.647649\n",
       "2     Support Vector Machine(RBF)  0.592686   0.605678  0.697095  0.648179"
      ]
     },
     "execution_count": 30,
     "metadata": {},
     "output_type": "execute_result"
    }
   ],
   "source": [
    "# Support Vector Machine (rbf)\n",
    "\n",
    "from sklearn.svm import SVC\n",
    "classifier = SVC(random_state=0,kernel='rbf')\n",
    "classifier.fit(X_train,y_train)\n",
    "\n",
    "# predicting test set\n",
    "y_pred = classifier.predict(X_test)\n",
    "\n",
    "acc = accuracy_score(y_test,y_pred)   # calculate accuracy\n",
    "prec = precision_score(y_test,y_pred) # calculate precision score\n",
    "rec = recall_score(y_test,y_pred)     # calculate recall score\n",
    "f1 = f1_score(y_test,y_pred)          # calculate f1 score\n",
    "\n",
    "model_results = pd.DataFrame([['Support Vector Machine(RBF)',acc,prec,rec,f1]],\n",
    "                      columns=['Model','Accuracy','Precision','Recall','F1 Score']\n",
    "                      )\n",
    "\n",
    "# append dataframe\n",
    "results = results.append(model_results,ignore_index=True)\n",
    "results"
   ]
  },
  {
   "cell_type": "code",
   "execution_count": 31,
   "metadata": {},
   "outputs": [
    {
     "data": {
      "text/html": [
       "<div>\n",
       "<style scoped>\n",
       "    .dataframe tbody tr th:only-of-type {\n",
       "        vertical-align: middle;\n",
       "    }\n",
       "\n",
       "    .dataframe tbody tr th {\n",
       "        vertical-align: top;\n",
       "    }\n",
       "\n",
       "    .dataframe thead th {\n",
       "        text-align: right;\n",
       "    }\n",
       "</style>\n",
       "<table border=\"1\" class=\"dataframe\">\n",
       "  <thead>\n",
       "    <tr style=\"text-align: right;\">\n",
       "      <th></th>\n",
       "      <th>Model</th>\n",
       "      <th>Accuracy</th>\n",
       "      <th>Precision</th>\n",
       "      <th>Recall</th>\n",
       "      <th>F1 Score</th>\n",
       "    </tr>\n",
       "  </thead>\n",
       "  <tbody>\n",
       "    <tr>\n",
       "      <th>0</th>\n",
       "      <td>Logistic Regression (Lasso)</td>\n",
       "      <td>0.562256</td>\n",
       "      <td>0.576271</td>\n",
       "      <td>0.705394</td>\n",
       "      <td>0.634328</td>\n",
       "    </tr>\n",
       "    <tr>\n",
       "      <th>1</th>\n",
       "      <td>Support Vector Machine(Linear)</td>\n",
       "      <td>0.568956</td>\n",
       "      <td>0.578240</td>\n",
       "      <td>0.735996</td>\n",
       "      <td>0.647649</td>\n",
       "    </tr>\n",
       "    <tr>\n",
       "      <th>2</th>\n",
       "      <td>Support Vector Machine(RBF)</td>\n",
       "      <td>0.592686</td>\n",
       "      <td>0.605678</td>\n",
       "      <td>0.697095</td>\n",
       "      <td>0.648179</td>\n",
       "    </tr>\n",
       "    <tr>\n",
       "      <th>3</th>\n",
       "      <td>Random Forest(n_estimators=100)</td>\n",
       "      <td>0.638470</td>\n",
       "      <td>0.657698</td>\n",
       "      <td>0.684647</td>\n",
       "      <td>0.670902</td>\n",
       "    </tr>\n",
       "  </tbody>\n",
       "</table>\n",
       "</div>"
      ],
      "text/plain": [
       "                             Model  Accuracy  Precision    Recall  F1 Score\n",
       "0      Logistic Regression (Lasso)  0.562256   0.576271  0.705394  0.634328\n",
       "1   Support Vector Machine(Linear)  0.568956   0.578240  0.735996  0.647649\n",
       "2      Support Vector Machine(RBF)  0.592686   0.605678  0.697095  0.648179\n",
       "3  Random Forest(n_estimators=100)  0.638470   0.657698  0.684647  0.670902"
      ]
     },
     "execution_count": 31,
     "metadata": {},
     "output_type": "execute_result"
    }
   ],
   "source": [
    "# Random Forest\n",
    "\n",
    "from sklearn.ensemble import RandomForestClassifier\n",
    "classifier = RandomForestClassifier(random_state=0,n_estimators=100,criterion='entropy')\n",
    "classifier.fit(X_train,y_train)\n",
    "\n",
    "# predicting test set\n",
    "y_pred = classifier.predict(X_test)\n",
    "\n",
    "acc = accuracy_score(y_test,y_pred)   # calculate accuracy\n",
    "prec = precision_score(y_test,y_pred) # calculate precision score\n",
    "rec = recall_score(y_test,y_pred)     # calculate recall score\n",
    "f1 = f1_score(y_test,y_pred)          # calculate f1 score\n",
    "\n",
    "model_results = pd.DataFrame([['Random Forest(n_estimators=100)',acc,prec,rec,f1]],\n",
    "                      columns=['Model','Accuracy','Precision','Recall','F1 Score']\n",
    "                      )\n",
    "\n",
    "# append dataframe\n",
    "results = results.append(model_results,ignore_index=True)\n",
    "results"
   ]
  },
  {
   "cell_type": "code",
   "execution_count": 32,
   "metadata": {},
   "outputs": [
    {
     "data": {
      "text/plain": [
       "array([0.62386602, 0.62805304, 0.6140963 , 0.62875087, 0.62177251,\n",
       "       0.60711793, 0.64664804, 0.61103352, 0.63547486, 0.62430168])"
      ]
     },
     "execution_count": 32,
     "metadata": {},
     "output_type": "execute_result"
    }
   ],
   "source": [
    "# apply k-fold cross validation with random forest as estimator\n",
    "\n",
    "from sklearn.model_selection import cross_val_score\n",
    "accuracies = cross_val_score(estimator=classifier,X=X_train,y=y_train,cv=10)\n",
    "accuracies"
   ]
  },
  {
   "cell_type": "code",
   "execution_count": 33,
   "metadata": {},
   "outputs": [
    {
     "name": "stdout",
     "output_type": "stream",
     "text": [
      "Random Forest Classifier Accuracy with k fold cross validation  is 0.62%\n"
     ]
    }
   ],
   "source": [
    "print(f'Random Forest Classifier Accuracy with k fold cross validation  is {accuracies.mean():.2f}%')"
   ]
  },
  {
   "cell_type": "markdown",
   "metadata": {},
   "source": [
    "<h2 style='color:#2c71e8'>Applying Grid search</h2>"
   ]
  },
  {
   "cell_type": "code",
   "execution_count": 34,
   "metadata": {},
   "outputs": [
    {
     "name": "stdout",
     "output_type": "stream",
     "text": [
      "GridSearchCV took 1741.84\n"
     ]
    }
   ],
   "source": [
    "# Round 1: Entropy\n",
    "\n",
    "parameters = {\n",
    "    \"max_depth\":[3,None],\n",
    "    \"max_features\":[1,5,10],\n",
    "    \"min_samples_split\":[2,5,10],\n",
    "    \"min_samples_leaf\":[1,5,10],\n",
    "    \"bootstrap\":[True,False],\n",
    "    \"criterion\":[\"entropy\"]\n",
    "}\n",
    "\n",
    "from sklearn.model_selection import GridSearchCV\n",
    "grid_search = GridSearchCV(estimator=classifier,\n",
    "             param_grid=parameters,\n",
    "             scoring=\"accuracy\",\n",
    "             cv=10,\n",
    "             n_jobs=-1             \n",
    "            )\n",
    "# check time of running grid search\n",
    "import time\n",
    "t0 = time.time()\n",
    "grid_search = grid_search.fit(X_train,y_train)\n",
    "t1 = time.time()\n",
    "print(f'GridSearchCV took {t1-t0:.2f}')"
   ]
  },
  {
   "cell_type": "code",
   "execution_count": 35,
   "metadata": {},
   "outputs": [
    {
     "name": "stdout",
     "output_type": "stream",
     "text": [
      "Best accuracy find by grid search is 0.6362579286335267\n"
     ]
    }
   ],
   "source": [
    "# check best accuracy and best parameters\n",
    "rf_best_accuracy = grid_search.best_score_\n",
    "rf_best_parameters = grid_search.best_params_\n",
    "print(f'Best accuracy find by grid search is {rf_best_accuracy}')"
   ]
  },
  {
   "cell_type": "code",
   "execution_count": 36,
   "metadata": {},
   "outputs": [
    {
     "name": "stdout",
     "output_type": "stream",
     "text": [
      "Best parameters find by grid search is {'bootstrap': True, 'criterion': 'entropy', 'max_depth': None, 'max_features': 10, 'min_samples_leaf': 5, 'min_samples_split': 2}\n"
     ]
    }
   ],
   "source": [
    "print(f'Best parameters find by grid search is {rf_best_parameters}')"
   ]
  },
  {
   "cell_type": "markdown",
   "metadata": {},
   "source": [
    "<h2 style='color:#2c71e8'>Predicting Test Set</h2>"
   ]
  },
  {
   "cell_type": "code",
   "execution_count": 37,
   "metadata": {},
   "outputs": [],
   "source": [
    "y_pred = grid_search.predict(X_test)\n",
    "\n",
    "acc = accuracy_score(y_test,y_pred)   # calculate accuracy\n",
    "prec = precision_score(y_test,y_pred) # calculate precision score\n",
    "rec = recall_score(y_test,y_pred)     # calculate recall score\n",
    "f1 = f1_score(y_test,y_pred)          # calculate f1 score\n",
    "\n",
    "model_results = pd.DataFrame([['Random Forest(n_estimators=100,GSx2 + Entropy)',acc,prec,rec,f1]],\n",
    "                      columns=['Model','Accuracy','Precision','Recall','F1 Score']\n",
    "                      )\n",
    "\n",
    "# append dataframe\n",
    "results = results.append(model_results,ignore_index=True)\n"
   ]
  },
  {
   "cell_type": "code",
   "execution_count": 38,
   "metadata": {},
   "outputs": [
    {
     "data": {
      "text/html": [
       "<div>\n",
       "<style scoped>\n",
       "    .dataframe tbody tr th:only-of-type {\n",
       "        vertical-align: middle;\n",
       "    }\n",
       "\n",
       "    .dataframe tbody tr th {\n",
       "        vertical-align: top;\n",
       "    }\n",
       "\n",
       "    .dataframe thead th {\n",
       "        text-align: right;\n",
       "    }\n",
       "</style>\n",
       "<table border=\"1\" class=\"dataframe\">\n",
       "  <thead>\n",
       "    <tr style=\"text-align: right;\">\n",
       "      <th></th>\n",
       "      <th>Model</th>\n",
       "      <th>Accuracy</th>\n",
       "      <th>Precision</th>\n",
       "      <th>Recall</th>\n",
       "      <th>F1 Score</th>\n",
       "    </tr>\n",
       "  </thead>\n",
       "  <tbody>\n",
       "    <tr>\n",
       "      <th>0</th>\n",
       "      <td>Logistic Regression (Lasso)</td>\n",
       "      <td>0.562256</td>\n",
       "      <td>0.576271</td>\n",
       "      <td>0.705394</td>\n",
       "      <td>0.634328</td>\n",
       "    </tr>\n",
       "    <tr>\n",
       "      <th>1</th>\n",
       "      <td>Support Vector Machine(Linear)</td>\n",
       "      <td>0.568956</td>\n",
       "      <td>0.578240</td>\n",
       "      <td>0.735996</td>\n",
       "      <td>0.647649</td>\n",
       "    </tr>\n",
       "    <tr>\n",
       "      <th>2</th>\n",
       "      <td>Support Vector Machine(RBF)</td>\n",
       "      <td>0.592686</td>\n",
       "      <td>0.605678</td>\n",
       "      <td>0.697095</td>\n",
       "      <td>0.648179</td>\n",
       "    </tr>\n",
       "    <tr>\n",
       "      <th>3</th>\n",
       "      <td>Random Forest(n_estimators=100)</td>\n",
       "      <td>0.638470</td>\n",
       "      <td>0.657698</td>\n",
       "      <td>0.684647</td>\n",
       "      <td>0.670902</td>\n",
       "    </tr>\n",
       "    <tr>\n",
       "      <th>4</th>\n",
       "      <td>Random Forest(n_estimators=100,GSx2 + Entropy)</td>\n",
       "      <td>0.630932</td>\n",
       "      <td>0.643330</td>\n",
       "      <td>0.705394</td>\n",
       "      <td>0.672934</td>\n",
       "    </tr>\n",
       "  </tbody>\n",
       "</table>\n",
       "</div>"
      ],
      "text/plain": [
       "                                            Model  Accuracy  Precision  \\\n",
       "0                     Logistic Regression (Lasso)  0.562256   0.576271   \n",
       "1                  Support Vector Machine(Linear)  0.568956   0.578240   \n",
       "2                     Support Vector Machine(RBF)  0.592686   0.605678   \n",
       "3                 Random Forest(n_estimators=100)  0.638470   0.657698   \n",
       "4  Random Forest(n_estimators=100,GSx2 + Entropy)  0.630932   0.643330   \n",
       "\n",
       "     Recall  F1 Score  \n",
       "0  0.705394  0.634328  \n",
       "1  0.735996  0.647649  \n",
       "2  0.697095  0.648179  \n",
       "3  0.684647  0.670902  \n",
       "4  0.705394  0.672934  "
      ]
     },
     "execution_count": 38,
     "metadata": {},
     "output_type": "execute_result"
    }
   ],
   "source": [
    "results"
   ]
  },
  {
   "cell_type": "code",
   "execution_count": 39,
   "metadata": {},
   "outputs": [
    {
     "name": "stdout",
     "output_type": "stream",
     "text": [
      "GridSearchCV took 555.75\n"
     ]
    }
   ],
   "source": [
    "# Round 2: Entropy\n",
    " \n",
    "parameters = {\n",
    "    \"max_depth\":[None],\n",
    "    \"max_features\":[3,5,7],\n",
    "    \"min_samples_split\":[8,10,12],\n",
    "    \"min_samples_leaf\":[1,2,3],\n",
    "    \"bootstrap\":[True],\n",
    "    \"criterion\":[\"entropy\"]\n",
    "}\n",
    "\n",
    "from sklearn.model_selection import GridSearchCV\n",
    "grid_search = GridSearchCV(estimator=classifier,\n",
    "             param_grid=parameters,\n",
    "             scoring=\"accuracy\",\n",
    "             cv=10,\n",
    "             n_jobs=-1             \n",
    "            )\n",
    "# check time of running grid search\n",
    "import time\n",
    "t0 = time.time()\n",
    "grid_search = grid_search.fit(X_train,y_train)\n",
    "t1 = time.time()\n",
    "print(f'GridSearchCV took {t1-t0:.2f}')"
   ]
  },
  {
   "cell_type": "code",
   "execution_count": 40,
   "metadata": {},
   "outputs": [
    {
     "name": "stdout",
     "output_type": "stream",
     "text": [
      "Best accuracy find by grid search is 0.6361185562187387\n"
     ]
    }
   ],
   "source": [
    "# check best accuracy and best parameters\n",
    "rf_best_accuracy = grid_search.best_score_\n",
    "rf_best_parameters = grid_search.best_params_\n",
    "print(f'Best accuracy find by grid search is {rf_best_accuracy}')"
   ]
  },
  {
   "cell_type": "code",
   "execution_count": 41,
   "metadata": {},
   "outputs": [
    {
     "name": "stdout",
     "output_type": "stream",
     "text": [
      "Best parameters find by grid search is {'bootstrap': True, 'criterion': 'entropy', 'max_depth': None, 'max_features': 7, 'min_samples_leaf': 3, 'min_samples_split': 8}\n"
     ]
    }
   ],
   "source": [
    "print(f'Best parameters find by grid search is {rf_best_parameters}')"
   ]
  },
  {
   "cell_type": "code",
   "execution_count": 42,
   "metadata": {},
   "outputs": [
    {
     "name": "stdout",
     "output_type": "stream",
     "text": [
      "GridSearchCV took 1132.88\n"
     ]
    }
   ],
   "source": [
    "# Round 1: Gini\n",
    "\n",
    "parameters = {\n",
    "    \"max_depth\":[3,None],\n",
    "    \"max_features\":[1,5,10],\n",
    "    \"min_samples_split\":[2,5,10],\n",
    "    \"min_samples_leaf\":[1,5,10],\n",
    "    \"bootstrap\":[True,False],\n",
    "    \"criterion\":[\"gini\"]\n",
    "}\n",
    "\n",
    "from sklearn.model_selection import GridSearchCV\n",
    "grid_search = GridSearchCV(estimator=classifier,\n",
    "             param_grid=parameters,\n",
    "             scoring=\"accuracy\",\n",
    "             cv=10,\n",
    "             n_jobs=-1             \n",
    "            )\n",
    "# check time of running grid search\n",
    "import time\n",
    "t0 = time.time()\n",
    "grid_search = grid_search.fit(X_train,y_train)\n",
    "t1 = time.time()\n",
    "print(f'GridSearchCV took {t1-t0:.2f}')"
   ]
  },
  {
   "cell_type": "code",
   "execution_count": 43,
   "metadata": {},
   "outputs": [
    {
     "name": "stdout",
     "output_type": "stream",
     "text": [
      "Best accuracy find by grid search is 0.6378633916423333\n"
     ]
    }
   ],
   "source": [
    "# check best accuracy and best parameters\n",
    "rf_best_accuracy = grid_search.best_score_\n",
    "rf_best_parameters = grid_search.best_params_\n",
    "print(f'Best accuracy find by grid search is {rf_best_accuracy}')"
   ]
  },
  {
   "cell_type": "code",
   "execution_count": 44,
   "metadata": {},
   "outputs": [
    {
     "name": "stdout",
     "output_type": "stream",
     "text": [
      "Best parameters find by grid search is {'bootstrap': True, 'criterion': 'gini', 'max_depth': None, 'max_features': 10, 'min_samples_leaf': 10, 'min_samples_split': 2}\n"
     ]
    }
   ],
   "source": [
    "print(f'Best parameters find by grid search is {rf_best_parameters}')"
   ]
  },
  {
   "cell_type": "code",
   "execution_count": 45,
   "metadata": {},
   "outputs": [
    {
     "name": "stdout",
     "output_type": "stream",
     "text": [
      "GridSearchCV took 375.89\n"
     ]
    }
   ],
   "source": [
    "# Round 2: Gini\n",
    "\n",
    "parameters = {\n",
    "    \"max_depth\":[None],\n",
    "    \"max_features\":[3,5,7],\n",
    "    \"min_samples_split\":[8,10,12],\n",
    "    \"min_samples_leaf\":[1,2,3],\n",
    "    \"bootstrap\":[True],\n",
    "    \"criterion\":[\"gini\"]\n",
    "}\n",
    "\n",
    "from sklearn.model_selection import GridSearchCV\n",
    "grid_search = GridSearchCV(estimator=classifier,\n",
    "             param_grid=parameters,\n",
    "             scoring=\"accuracy\",\n",
    "             cv=10,\n",
    "             n_jobs=-1             \n",
    "            )\n",
    "# check time of running grid search\n",
    "import time\n",
    "t0 = time.time()\n",
    "grid_search = grid_search.fit(X_train,y_train)\n",
    "t1 = time.time()\n",
    "print(f'GridSearchCV took {t1-t0:.2f}')"
   ]
  },
  {
   "cell_type": "code",
   "execution_count": 46,
   "metadata": {},
   "outputs": [
    {
     "name": "stdout",
     "output_type": "stream",
     "text": [
      "Best accuracy find by grid search is 0.635838008319461\n"
     ]
    }
   ],
   "source": [
    "# check best accuracy and best parameters\n",
    "rf_best_accuracy = grid_search.best_score_\n",
    "rf_best_parameters = grid_search.best_params_\n",
    "print(f'Best accuracy find by grid search is {rf_best_accuracy}')"
   ]
  },
  {
   "cell_type": "code",
   "execution_count": 47,
   "metadata": {},
   "outputs": [
    {
     "name": "stdout",
     "output_type": "stream",
     "text": [
      "Best parameters find by grid search is {'bootstrap': True, 'criterion': 'gini', 'max_depth': None, 'max_features': 5, 'min_samples_leaf': 1, 'min_samples_split': 8}\n"
     ]
    }
   ],
   "source": [
    "print(f'Best parameters find by grid search is {rf_best_parameters}')"
   ]
  },
  {
   "cell_type": "code",
   "execution_count": 48,
   "metadata": {},
   "outputs": [],
   "source": [
    "y_pred = grid_search.predict(X_test)\n",
    "\n",
    "acc = accuracy_score(y_test,y_pred)   # calculate accuracy\n",
    "prec = precision_score(y_test,y_pred) # calculate precision score\n",
    "rec = recall_score(y_test,y_pred)     # calculate recall score\n",
    "f1 = f1_score(y_test,y_pred)          # calculate f1 score\n",
    "\n",
    "model_results = pd.DataFrame([['Random Forest(n_estimators=100,GSx2 + Gini)',acc,prec,rec,f1]],\n",
    "                      columns=['Model','Accuracy','Precision','Recall','F1 Score']\n",
    "                      )\n",
    "\n",
    "# append dataframe\n",
    "results = results.append(model_results,ignore_index=True)"
   ]
  },
  {
   "cell_type": "code",
   "execution_count": 49,
   "metadata": {},
   "outputs": [
    {
     "data": {
      "text/html": [
       "<div>\n",
       "<style scoped>\n",
       "    .dataframe tbody tr th:only-of-type {\n",
       "        vertical-align: middle;\n",
       "    }\n",
       "\n",
       "    .dataframe tbody tr th {\n",
       "        vertical-align: top;\n",
       "    }\n",
       "\n",
       "    .dataframe thead th {\n",
       "        text-align: right;\n",
       "    }\n",
       "</style>\n",
       "<table border=\"1\" class=\"dataframe\">\n",
       "  <thead>\n",
       "    <tr style=\"text-align: right;\">\n",
       "      <th></th>\n",
       "      <th>Model</th>\n",
       "      <th>Accuracy</th>\n",
       "      <th>Precision</th>\n",
       "      <th>Recall</th>\n",
       "      <th>F1 Score</th>\n",
       "    </tr>\n",
       "  </thead>\n",
       "  <tbody>\n",
       "    <tr>\n",
       "      <th>0</th>\n",
       "      <td>Logistic Regression (Lasso)</td>\n",
       "      <td>0.562256</td>\n",
       "      <td>0.576271</td>\n",
       "      <td>0.705394</td>\n",
       "      <td>0.634328</td>\n",
       "    </tr>\n",
       "    <tr>\n",
       "      <th>1</th>\n",
       "      <td>Support Vector Machine(Linear)</td>\n",
       "      <td>0.568956</td>\n",
       "      <td>0.578240</td>\n",
       "      <td>0.735996</td>\n",
       "      <td>0.647649</td>\n",
       "    </tr>\n",
       "    <tr>\n",
       "      <th>2</th>\n",
       "      <td>Support Vector Machine(RBF)</td>\n",
       "      <td>0.592686</td>\n",
       "      <td>0.605678</td>\n",
       "      <td>0.697095</td>\n",
       "      <td>0.648179</td>\n",
       "    </tr>\n",
       "    <tr>\n",
       "      <th>3</th>\n",
       "      <td>Random Forest(n_estimators=100)</td>\n",
       "      <td>0.638470</td>\n",
       "      <td>0.657698</td>\n",
       "      <td>0.684647</td>\n",
       "      <td>0.670902</td>\n",
       "    </tr>\n",
       "    <tr>\n",
       "      <th>4</th>\n",
       "      <td>Random Forest(n_estimators=100,GSx2 + Entropy)</td>\n",
       "      <td>0.630932</td>\n",
       "      <td>0.643330</td>\n",
       "      <td>0.705394</td>\n",
       "      <td>0.672934</td>\n",
       "    </tr>\n",
       "    <tr>\n",
       "      <th>5</th>\n",
       "      <td>Random Forest(n_estimators=100,GSx2 + Gini)</td>\n",
       "      <td>0.627582</td>\n",
       "      <td>0.644455</td>\n",
       "      <td>0.687241</td>\n",
       "      <td>0.665161</td>\n",
       "    </tr>\n",
       "  </tbody>\n",
       "</table>\n",
       "</div>"
      ],
      "text/plain": [
       "                                            Model  Accuracy  Precision  \\\n",
       "0                     Logistic Regression (Lasso)  0.562256   0.576271   \n",
       "1                  Support Vector Machine(Linear)  0.568956   0.578240   \n",
       "2                     Support Vector Machine(RBF)  0.592686   0.605678   \n",
       "3                 Random Forest(n_estimators=100)  0.638470   0.657698   \n",
       "4  Random Forest(n_estimators=100,GSx2 + Entropy)  0.630932   0.643330   \n",
       "5     Random Forest(n_estimators=100,GSx2 + Gini)  0.627582   0.644455   \n",
       "\n",
       "     Recall  F1 Score  \n",
       "0  0.705394  0.634328  \n",
       "1  0.735996  0.647649  \n",
       "2  0.697095  0.648179  \n",
       "3  0.684647  0.670902  \n",
       "4  0.705394  0.672934  \n",
       "5  0.687241  0.665161  "
      ]
     },
     "execution_count": 49,
     "metadata": {},
     "output_type": "execute_result"
    }
   ],
   "source": [
    "results"
   ]
  },
  {
   "cell_type": "code",
   "execution_count": null,
   "metadata": {},
   "outputs": [],
   "source": []
  },
  {
   "cell_type": "code",
   "execution_count": null,
   "metadata": {},
   "outputs": [],
   "source": []
  },
  {
   "cell_type": "code",
   "execution_count": null,
   "metadata": {},
   "outputs": [],
   "source": []
  }
 ],
 "metadata": {
  "kernelspec": {
   "display_name": "Python 3",
   "language": "python",
   "name": "python3"
  },
  "language_info": {
   "codemirror_mode": {
    "name": "ipython",
    "version": 3
   },
   "file_extension": ".py",
   "mimetype": "text/x-python",
   "name": "python",
   "nbconvert_exporter": "python",
   "pygments_lexer": "ipython3",
   "version": "3.7.3"
  }
 },
 "nbformat": 4,
 "nbformat_minor": 2
}
